{
 "cells": [
  {
   "cell_type": "code",
   "execution_count": null,
   "metadata": {},
   "outputs": [],
   "source": [
    "import pandas as pd\n",
    "import matplotlib.pyplot as plt"
   ]
  },
  {
   "cell_type": "markdown",
   "metadata": {},
   "source": [
    "Load the wine"
   ]
  },
  {
   "cell_type": "code",
   "execution_count": null,
   "metadata": {},
   "outputs": [
    {
     "data": {
      "text/plain": [
       "         country  ...                                    winery\n",
       "0          Italy  ...                                   Nicosia\n",
       "1       Portugal  ...                       Quinta dos Avidagos\n",
       "2             US  ...                                 Rainstorm\n",
       "3             US  ...                                St. Julian\n",
       "4             US  ...                              Sweet Cheeks\n",
       "...          ...  ...                                       ...\n",
       "129966   Germany  ...  Dr. H. Thanisch (Erben Müller-Burggraef)\n",
       "129967        US  ...                                  Citation\n",
       "129968    France  ...                           Domaine Gresser\n",
       "129969    France  ...                      Domaine Marcel Deiss\n",
       "129970    France  ...                          Domaine Schoffit\n",
       "\n",
       "[129971 rows x 13 columns]\n",
       "Index(['country', 'description', 'name', 'points', 'price', 'province',\n",
       "       'region_1', 'region_2', 'taster_name', 'taster_twitter_handle', 'title',\n",
       "       'variety', 'winery'],\n",
       "      dtype='object')\n"
      ]
     },
     "metadata": {},
     "output_type": "display_data"
    }
   ],
   "source": [
    "df = pd.read_csv(\"data/wines.csv\", index_col=0)\n",
    "print(df)\n",
    "print(df.columns)"
   ]
  },
  {
   "cell_type": "code",
   "execution_count": null,
   "metadata": {},
   "outputs": [
    {
     "data": {
      "text/plain": [
       "Number of wines with 100 points: 19\n"
      ]
     },
     "metadata": {},
     "output_type": "display_data"
    }
   ],
   "source": [
    "# How many wines have been given a rating of 100 points?\n",
    "wines_with_100_points = df[df.points == 100]\n",
    "count_of_100_point_wines = wines_with_100_points.shape[0]\n",
    "print(f\"Number of wines with 100 points: {count_of_100_point_wines}\")"
   ]
  },
  {
   "cell_type": "code",
   "execution_count": null,
   "metadata": {},
   "outputs": [
    {
     "data": {
      "text/plain": [
       "80290    Glamorosa Sensible\n",
       "Name: name, dtype: object\n"
      ]
     },
     "metadata": {},
     "output_type": "display_data"
    }
   ],
   "source": [
    "# What is the name of the most expensive wine?\n",
    "maximum_price = df.price.max()\n",
    "wine_index_with_maximum_price = df[df.price == maximum_price].index[0]\n",
    "most_expensive_wine = df[df.index == wine_index_with_maximum_price]\n",
    "print(most_expensive_wine.name)"
   ]
  },
  {
   "cell_type": "code",
   "execution_count": null,
   "metadata": {},
   "outputs": [
    {
     "data": {
      "text/plain": [
       "   Unnamed: 0   country  ...               winery new_rating\n",
       "0           0     Italy  ...              Nicosia       4.35\n",
       "1           1  Portugal  ...  Quinta dos Avidagos       4.35\n",
       "2           2        US  ...            Rainstorm       4.35\n",
       "3           3        US  ...           St. Julian       4.35\n",
       "4           4        US  ...         Sweet Cheeks       4.35\n",
       "\n",
       "[5 rows x 15 columns]\n"
      ]
     },
     "metadata": {},
     "output_type": "display_data"
    }
   ],
   "source": [
    "# Calculate a new column where you show the rating on a scale of 0 - 5. Floats are allowed.\n",
    "df[\"new_rating\"] = df.points / 20\n",
    "print(df.head())"
   ]
  },
  {
   "cell_type": "code",
   "execution_count": null,
   "metadata": {},
   "outputs": [],
   "source": [
    "# Create a histogram of wines that cost less than 100\n",
    "df_under_100 = df[df.price < 100]\n",
    "df_under_100.price.hist()\n",
    "plt.show()"
   ]
  },
  {
   "cell_type": "code",
   "execution_count": null,
   "metadata": {},
   "outputs": [],
   "source": [
    "# Plot price horizontally vs points vertically\n",
    "plt.scatter(df.price, df.points)\n",
    "plt.xlabel('Price')\n",
    "plt.ylabel('Points')\n",
    "plt.title('Price vs Points')\n",
    "plt.show()"
   ]
  }
 ],
 "metadata": {
  "language_info": {
   "name": "python"
  }
 },
 "nbformat": 4,
 "nbformat_minor": 2
}
